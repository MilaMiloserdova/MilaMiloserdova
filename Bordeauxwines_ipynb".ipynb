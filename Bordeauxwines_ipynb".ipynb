{
  "nbformat": 4,
  "nbformat_minor": 0,
  "metadata": {
    "colab": {
      "name": "Bordeauxwines.ipynb\"",
      "provenance": [],
      "collapsed_sections": [],
      "include_colab_link": true
    },
    "kernelspec": {
      "name": "python3",
      "display_name": "Python 3"
    },
    "language_info": {
      "name": "python"
    }
  },
  "cells": [
    {
      "cell_type": "markdown",
      "metadata": {
        "id": "view-in-github",
        "colab_type": "text"
      },
      "source": [
        "<a href=\"https://colab.research.google.com/github/MilaMiloserdova/MilaMiloserdova/blob/main/Bordeauxwines_ipynb%22.ipynb\" target=\"_parent\"><img src=\"https://colab.research.google.com/assets/colab-badge.svg\" alt=\"Open In Colab\"/></a>"
      ]
    },
    {
      "cell_type": "code",
      "metadata": {
        "id": "v2P_f_cPfVSH"
      },
      "source": [
        "path_to_file = 'winenarrative.txt'\n",
        "with open(path_to_file, 'r') as open_file:\n",
        "    file_as_string = open_file.read().lower() "
      ],
      "execution_count": null,
      "outputs": []
    },
    {
      "cell_type": "code",
      "metadata": {
        "colab": {
          "base_uri": "https://localhost:8080/",
          "height": 53
        },
        "id": "N2xV0HcqMSRQ",
        "outputId": "bf77d6f2-1581-40e4-b46c-7196dc2a5683"
      },
      "source": [
        "file_as_string[:200]"
      ],
      "execution_count": null,
      "outputs": [
        {
          "output_type": "execute_result",
          "data": {
            "text/plain": [
              "'\\ufeffthe bordeaux 1855 classification\\nthe complete guide to the historic, 1855 bordeaux classification of the wines of bordeaux from the medoc.\\nthe historic 1855 bordeaux classification stands as the sing'"
            ],
            "application/vnd.google.colaboratory.intrinsic+json": {
              "type": "string"
            }
          },
          "metadata": {},
          "execution_count": 54
        }
      ]
    },
    {
      "cell_type": "code",
      "metadata": {
        "colab": {
          "base_uri": "https://localhost:8080/"
        },
        "id": "f3sI59je8_mp",
        "outputId": "0f0d1a5b-4f83-4bf5-fe42-e1d238f06f9c"
      },
      "source": [
        "from nltk.tokenize import word_tokenize\n",
        "from nltk import download\n",
        "download('punkt')"
      ],
      "execution_count": null,
      "outputs": [
        {
          "output_type": "stream",
          "name": "stdout",
          "text": [
            "[nltk_data] Downloading package punkt to /root/nltk_data...\n",
            "[nltk_data]   Unzipping tokenizers/punkt.zip.\n"
          ]
        },
        {
          "output_type": "execute_result",
          "data": {
            "text/plain": [
              "True"
            ]
          },
          "metadata": {},
          "execution_count": 3
        }
      ]
    },
    {
      "cell_type": "code",
      "metadata": {
        "colab": {
          "base_uri": "https://localhost:8080/"
        },
        "id": "xWB2wZHHMMBj",
        "outputId": "3ba900a5-59bf-4c1e-f3cb-4ac06d6994df"
      },
      "source": [
        "file_as_words_list_with_nltk = word_tokenize(file_as_string)\n",
        "file_as_words_list_with_nltk[:50]"
      ],
      "execution_count": null,
      "outputs": [
        {
          "output_type": "execute_result",
          "data": {
            "text/plain": [
              "['\\ufeffthe',\n",
              " 'bordeaux',\n",
              " '1855',\n",
              " 'classification',\n",
              " 'the',\n",
              " 'complete',\n",
              " 'guide',\n",
              " 'to',\n",
              " 'the',\n",
              " 'historic',\n",
              " ',',\n",
              " '1855',\n",
              " 'bordeaux',\n",
              " 'classification',\n",
              " 'of',\n",
              " 'the',\n",
              " 'wines',\n",
              " 'of',\n",
              " 'bordeaux',\n",
              " 'from',\n",
              " 'the',\n",
              " 'medoc',\n",
              " '.',\n",
              " 'the',\n",
              " 'historic',\n",
              " '1855',\n",
              " 'bordeaux',\n",
              " 'classification',\n",
              " 'stands',\n",
              " 'as',\n",
              " 'the',\n",
              " 'single',\n",
              " 'most',\n",
              " 'important',\n",
              " 'and',\n",
              " 'famous',\n",
              " 'classification',\n",
              " 'of',\n",
              " 'any',\n",
              " 'wine',\n",
              " 'region',\n",
              " 'in',\n",
              " 'the',\n",
              " 'world',\n",
              " '.',\n",
              " 'almost',\n",
              " '160',\n",
              " 'years',\n",
              " 'later',\n",
              " ',']"
            ]
          },
          "metadata": {},
          "execution_count": 5
        }
      ]
    },
    {
      "cell_type": "code",
      "metadata": {
        "id": "Kz95m6SOMYpG"
      },
      "source": [
        "file_as_words_list_with_nltk_no_punct = [word for word in file_as_words_list_with_nltk if word[0].isalpha()]"
      ],
      "execution_count": null,
      "outputs": []
    },
    {
      "cell_type": "code",
      "source": [
        "file_as_words_list_with_nltk_no_punct[:25]"
      ],
      "metadata": {
        "colab": {
          "base_uri": "https://localhost:8080/"
        },
        "id": "okHwmX5n2rj7",
        "outputId": "05e9c71c-0f71-438f-d3b8-bf859d1f6cbe"
      },
      "execution_count": null,
      "outputs": [
        {
          "output_type": "execute_result",
          "data": {
            "text/plain": [
              "['bordeaux',\n",
              " 'classification',\n",
              " 'the',\n",
              " 'complete',\n",
              " 'guide',\n",
              " 'to',\n",
              " 'the',\n",
              " 'historic',\n",
              " 'bordeaux',\n",
              " 'classification',\n",
              " 'of',\n",
              " 'the',\n",
              " 'wines',\n",
              " 'of',\n",
              " 'bordeaux',\n",
              " 'from',\n",
              " 'the',\n",
              " 'medoc',\n",
              " 'the',\n",
              " 'historic',\n",
              " 'bordeaux',\n",
              " 'classification',\n",
              " 'stands',\n",
              " 'as',\n",
              " 'the']"
            ]
          },
          "metadata": {},
          "execution_count": 7
        }
      ]
    },
    {
      "cell_type": "code",
      "source": [
        "import nltk\n",
        "from nltk.corpus import stopwords\n",
        "nltk.download('stopwords')\n",
        "filtered_words = [word for word in file_as_words_list_with_nltk_no_punct if word in stopwords.words('english')]\n",
        "stop_words = [line.strip() for line in filtered_words]"
      ],
      "metadata": {
        "id": "Hzol2Sjijzv3",
        "colab": {
          "base_uri": "https://localhost:8080/"
        },
        "outputId": "2eece32b-040e-472c-91f7-68ccb95e33f8"
      },
      "execution_count": null,
      "outputs": [
        {
          "output_type": "stream",
          "name": "stdout",
          "text": [
            "[nltk_data] Downloading package stopwords to /root/nltk_data...\n",
            "[nltk_data]   Package stopwords is already up-to-date!\n"
          ]
        }
      ]
    },
    {
      "cell_type": "code",
      "source": [
        "stop_words[:10]"
      ],
      "metadata": {
        "colab": {
          "base_uri": "https://localhost:8080/"
        },
        "id": "SFKxiEh5kBkY",
        "outputId": "d252287e-4325-48a2-ea45-2db637125fe5"
      },
      "execution_count": null,
      "outputs": [
        {
          "output_type": "execute_result",
          "data": {
            "text/plain": [
              "['the', 'to', 'the', 'of', 'the', 'of', 'from', 'the', 'the', 'as']"
            ]
          },
          "metadata": {},
          "execution_count": 27
        }
      ]
    },
    {
      "cell_type": "code",
      "source": [
        "key_words = [word for word in file_as_words_list_with_nltk_no_punct if word not in stopwords.words('english')]"
      ],
      "metadata": {
        "id": "ihRrjCCKjdoi"
      },
      "execution_count": null,
      "outputs": []
    },
    {
      "cell_type": "code",
      "source": [
        "key_words[:10]"
      ],
      "metadata": {
        "colab": {
          "base_uri": "https://localhost:8080/"
        },
        "id": "R-Rc4te8kKwO",
        "outputId": "8aee9267-fd36-4be0-8f56-17e8b2acd59d"
      },
      "execution_count": null,
      "outputs": [
        {
          "output_type": "execute_result",
          "data": {
            "text/plain": [
              "['bordeaux',\n",
              " 'classification',\n",
              " 'complete',\n",
              " 'guide',\n",
              " 'historic',\n",
              " 'bordeaux',\n",
              " 'classification',\n",
              " 'wines',\n",
              " 'bordeaux',\n",
              " 'medoc']"
            ]
          },
          "metadata": {},
          "execution_count": 29
        }
      ]
    },
    {
      "cell_type": "code",
      "source": [
        "from collections import Counter"
      ],
      "metadata": {
        "id": "8rY_M8ToqqEs"
      },
      "execution_count": null,
      "outputs": []
    },
    {
      "cell_type": "code",
      "source": [
        "Counter(key_words).most_common(10)"
      ],
      "metadata": {
        "colab": {
          "base_uri": "https://localhost:8080/"
        },
        "id": "27G0UXtFqiwp",
        "outputId": "7ff7480c-39bb-4518-c69d-202abd0e6a58"
      },
      "execution_count": null,
      "outputs": [
        {
          "output_type": "execute_result",
          "data": {
            "text/plain": [
              "[('wine', 1758),\n",
              " ('bordeaux', 1504),\n",
              " ('wines', 1060),\n",
              " ('chateau', 399),\n",
              " ('classification', 333),\n",
              " ('white', 288),\n",
              " ('best', 247),\n",
              " ('also', 244),\n",
              " ('cru', 225),\n",
              " ('emilion', 202)]"
            ]
          },
          "metadata": {},
          "execution_count": 32
        }
      ]
    },
    {
      "cell_type": "code",
      "source": [
        "!pip install pymorphy2\n"
      ],
      "metadata": {
        "colab": {
          "base_uri": "https://localhost:8080/"
        },
        "id": "vD1YXKBLkMPd",
        "outputId": "7fd62001-d8b0-4751-8865-735c9a9efd27"
      },
      "execution_count": null,
      "outputs": [
        {
          "output_type": "stream",
          "name": "stdout",
          "text": [
            "Looking in indexes: https://pypi.org/simple, https://us-python.pkg.dev/colab-wheels/public/simple/\n",
            "Collecting pymorphy2\n",
            "  Downloading pymorphy2-0.9.1-py3-none-any.whl (55 kB)\n",
            "\u001b[K     |████████████████████████████████| 55 kB 2.3 MB/s \n",
            "\u001b[?25hRequirement already satisfied: docopt>=0.6 in /usr/local/lib/python3.7/dist-packages (from pymorphy2) (0.6.2)\n",
            "Collecting pymorphy2-dicts-ru<3.0,>=2.4\n",
            "  Downloading pymorphy2_dicts_ru-2.4.417127.4579844-py2.py3-none-any.whl (8.2 MB)\n",
            "\u001b[K     |████████████████████████████████| 8.2 MB 9.2 MB/s \n",
            "\u001b[?25hCollecting dawg-python>=0.7.1\n",
            "  Downloading DAWG_Python-0.7.2-py2.py3-none-any.whl (11 kB)\n",
            "Installing collected packages: pymorphy2-dicts-ru, dawg-python, pymorphy2\n",
            "Successfully installed dawg-python-0.7.2 pymorphy2-0.9.1 pymorphy2-dicts-ru-2.4.417127.4579844\n"
          ]
        }
      ]
    },
    {
      "cell_type": "code",
      "source": [
        "from pymorphy2 import MorphAnalyzer\n",
        "morph = MorphAnalyzer()"
      ],
      "metadata": {
        "id": "nZt1gCRbnK-P"
      },
      "execution_count": null,
      "outputs": []
    },
    {
      "cell_type": "code",
      "source": [
        "lemmatized_file = [morph.parse(word)[0].normal_form for word in file_as_words_list_with_nltk_no_punct_no_stop]"
      ],
      "metadata": {
        "id": "WZhKLgdmnMm-"
      },
      "execution_count": null,
      "outputs": []
    },
    {
      "cell_type": "code",
      "source": [
        "lemmatized_file[:20]"
      ],
      "metadata": {
        "colab": {
          "base_uri": "https://localhost:8080/"
        },
        "id": "tHYLcKsdqIx1",
        "outputId": "5ad7eda1-6788-4d39-97c3-8092508d9a59"
      },
      "execution_count": null,
      "outputs": [
        {
          "output_type": "execute_result",
          "data": {
            "text/plain": [
              "['bordeaux',\n",
              " 'classification',\n",
              " 'complete',\n",
              " 'guide',\n",
              " 'historic',\n",
              " 'bordeaux',\n",
              " 'classification',\n",
              " 'wines',\n",
              " 'bordeaux',\n",
              " 'medoc',\n",
              " 'historic',\n",
              " 'bordeaux',\n",
              " 'classification',\n",
              " 'stands',\n",
              " 'single',\n",
              " 'important',\n",
              " 'famous',\n",
              " 'classification',\n",
              " 'wine',\n",
              " 'region']"
            ]
          },
          "metadata": {},
          "execution_count": 36
        }
      ]
    },
    {
      "cell_type": "code",
      "source": [
        "Counter(lemmatized_file).most_common(10)"
      ],
      "metadata": {
        "colab": {
          "base_uri": "https://localhost:8080/"
        },
        "id": "Smr6Zq06qR99",
        "outputId": "260ed7a5-bcbb-4bf4-e350-b8b67dfed4f8"
      },
      "execution_count": null,
      "outputs": [
        {
          "output_type": "execute_result",
          "data": {
            "text/plain": [
              "[('wine', 1758),\n",
              " ('bordeaux', 1504),\n",
              " ('wines', 1060),\n",
              " ('chateau', 399),\n",
              " ('classification', 333),\n",
              " ('white', 288),\n",
              " ('best', 247),\n",
              " ('also', 244),\n",
              " ('cru', 225),\n",
              " ('emilion', 202)]"
            ]
          },
          "metadata": {},
          "execution_count": 38
        }
      ]
    },
    {
      "cell_type": "code",
      "source": [
        "lemma_freqs = Counter(lemmatized_file).most_common(20)"
      ],
      "metadata": {
        "id": "fGAvV6morKIe"
      },
      "execution_count": null,
      "outputs": []
    },
    {
      "cell_type": "code",
      "source": [
        "import matplotlib.pyplot as plt \n",
        "\n",
        "values = [pair[1] for pair in lemma_freqs]\n",
        "labels = [pair[0] for pair in lemma_freqs] \n",
        "plt.bar(labels, values)\n",
        "plt.xticks(rotation=90)\n",
        "plt.show()\n",
        "plt.close('all')"
      ],
      "metadata": {
        "colab": {
          "base_uri": "https://localhost:8080/",
          "height": 320
        },
        "id": "Gdz0Ra2nq4_E",
        "outputId": "ae0cbfe6-bbc4-4c85-f9a9-3c63cbc900c9"
      },
      "execution_count": null,
      "outputs": [
        {
          "output_type": "display_data",
          "data": {
            "text/plain": [
              "<Figure size 432x288 with 1 Axes>"
            ],
            "image/png": "[encoded data removed]"
          },
          "metadata": {
            "needs_background": "light"
          }
        }
      ]
    },
    {
      "cell_type": "code",
      "source": [
        "len(lemmatized_file)"
      ],
      "metadata": {
        "colab": {
          "base_uri": "https://localhost:8080/"
        },
        "id": "sHROYqqu6Yua",
        "outputId": "bb92e1bd-a7ba-4d7f-e8b5-bea485add5a5"
      },
      "execution_count": null,
      "outputs": [
        {
          "output_type": "execute_result",
          "data": {
            "text/plain": [
              "41527"
            ]
          },
          "metadata": {},
          "execution_count": 45
        }
      ]
    },
    {
      "cell_type": "code",
      "source": [
        "lemmatized_file = [word for word in lemmatized_file if len(word) >= 4]\n",
        "len(lemmatized_file)"
      ],
      "metadata": {
        "colab": {
          "base_uri": "https://localhost:8080/"
        },
        "id": "ARxjhftv6bP8",
        "outputId": "731ad43d-63a1-41f5-d44d-34292b2a7d8a"
      },
      "execution_count": null,
      "outputs": [
        {
          "output_type": "execute_result",
          "data": {
            "text/plain": [
              "38839"
            ]
          },
          "metadata": {},
          "execution_count": 46
        }
      ]
    },
    {
      "cell_type": "code",
      "metadata": {
        "id": "H86_1V2SpaF6",
        "colab": {
          "base_uri": "https://localhost:8080/"
        },
        "outputId": "b3cbb2d7-cdfc-4cfe-b2f4-e7ca75885b5c"
      },
      "source": [
        "from nltk import Text as nltk_text\n",
        "lemmatized_nltk_format = nltk_text(lemmatized_file)\n",
        "type(lemmatized_nltk_format)"
      ],
      "execution_count": null,
      "outputs": [
        {
          "output_type": "execute_result",
          "data": {
            "text/plain": [
              "nltk.text.Text"
            ]
          },
          "metadata": {},
          "execution_count": 44
        }
      ]
    },
    {
      "cell_type": "code",
      "metadata": {
        "id": "kw57-Ei5xoZO",
        "colab": {
          "base_uri": "https://localhost:8080/",
          "height": 295
        },
        "outputId": "464b4e92-e616-4546-e9a0-f12561783536"
      },
      "source": [
        "lemmatized_nltk_format.dispersion_plot([\"wine\", \"bordeaux\", \"chateau\", \"cru\", \"appellation\", 'vintage'])"
      ],
      "execution_count": null,
      "outputs": [
        {
          "output_type": "display_data",
          "data": {
            "text/plain": [
              "<Figure size 432x288 with 1 Axes>"
            ],
            "image/png": "[encoded data removed]"
          },
          "metadata": {
            "needs_background": "light"
          }
        }
      ]
    },
    {
      "cell_type": "code",
      "source": [
        "len(lemmatized_file)"
      ],
      "metadata": {
        "colab": {
          "base_uri": "https://localhost:8080/"
        },
        "id": "PiBEKiEW_4sJ",
        "outputId": "6f9b6c1e-a961-484e-f25b-24ba7ae1d5fb"
      },
      "execution_count": null,
      "outputs": [
        {
          "output_type": "execute_result",
          "data": {
            "text/plain": [
              "38839"
            ]
          },
          "metadata": {},
          "execution_count": 48
        }
      ]
    },
    {
      "cell_type": "code",
      "source": [
        "word_to_search = 'bordeaux'\n",
        "counter = 0\n",
        "search_counter = 0\n",
        "freqs_list = []\n",
        "for word in lemmatized_file:\n",
        "    counter += 1\n",
        "    if counter %50 == 0:\n",
        "        freqs_list.append(search_counter/counter)\n",
        "        counter = 0\n",
        "        search_counter = 0\n",
        "    if word == word_to_search:\n",
        "        search_counter += 1\n",
        "\n",
        "freqs_list.append(search_counter/counter)"
      ],
      "metadata": {
        "id": "3zbTgcP_91ZG"
      },
      "execution_count": null,
      "outputs": []
    },
    {
      "cell_type": "code",
      "source": [
        "freqs_list"
      ],
      "metadata": {
        "colab": {
          "base_uri": "https://localhost:8080/"
        },
        "id": "EWHL1mcb_EiS",
        "outputId": "7bbb4636-63d2-4df0-ac2a-c031f4ca2a44"
      },
      "execution_count": null,
      "outputs": [
        {
          "output_type": "execute_result",
          "data": {
            "text/plain": [
              "[0.1,\n",
              " 0.02,\n",
              " 0.16,\n",
              " 0.02,\n",
              " 0.04,\n",
              " 0.02,\n",
              " 0.02,\n",
              " 0.04,\n",
              " 0.1,\n",
              " 0.04,\n",
              " 0.02,\n",
              " 0.06,\n",
              " 0.06,\n",
              " 0.08,\n",
              " 0.12,\n",
              " 0.04,\n",
              " 0.04,\n",
              " 0.04,\n",
              " 0.0,\n",
              " 0.04,\n",
              " 0.02,\n",
              " 0.02,\n",
              " 0.02,\n",
              " 0.02,\n",
              " 0.06,\n",
              " 0.08,\n",
              " 0.16,\n",
              " 0.14,\n",
              " 0.1,\n",
              " 0.06,\n",
              " 0.1,\n",
              " 0.12,\n",
              " 0.1,\n",
              " 0.12,\n",
              " 0.04,\n",
              " 0.02,\n",
              " 0.04,\n",
              " 0.06,\n",
              " 0.04,\n",
              " 0.08,\n",
              " 0.16,\n",
              " 0.08,\n",
              " 0.1,\n",
              " 0.08,\n",
              " 0.1,\n",
              " 0.1,\n",
              " 0.08,\n",
              " 0.06,\n",
              " 0.12,\n",
              " 0.14,\n",
              " 0.14,\n",
              " 0.06,\n",
              " 0.1,\n",
              " 0.08,\n",
              " 0.0,\n",
              " 0.04,\n",
              " 0.04,\n",
              " 0.04,\n",
              " 0.02,\n",
              " 0.08,\n",
              " 0.08,\n",
              " 0.08,\n",
              " 0.12,\n",
              " 0.02,\n",
              " 0.0,\n",
              " 0.02,\n",
              " 0.04,\n",
              " 0.0,\n",
              " 0.0,\n",
              " 0.1,\n",
              " 0.06,\n",
              " 0.04,\n",
              " 0.02,\n",
              " 0.02,\n",
              " 0.04,\n",
              " 0.02,\n",
              " 0.0,\n",
              " 0.08,\n",
              " 0.1,\n",
              " 0.1,\n",
              " 0.06,\n",
              " 0.1,\n",
              " 0.06,\n",
              " 0.02,\n",
              " 0.08,\n",
              " 0.08,\n",
              " 0.1,\n",
              " 0.08,\n",
              " 0.0,\n",
              " 0.0,\n",
              " 0.02,\n",
              " 0.02,\n",
              " 0.12,\n",
              " 0.1,\n",
              " 0.04,\n",
              " 0.02,\n",
              " 0.02,\n",
              " 0.02,\n",
              " 0.06,\n",
              " 0.02,\n",
              " 0.0,\n",
              " 0.1,\n",
              " 0.02,\n",
              " 0.06,\n",
              " 0.08,\n",
              " 0.1,\n",
              " 0.06,\n",
              " 0.08,\n",
              " 0.06,\n",
              " 0.04,\n",
              " 0.1,\n",
              " 0.04,\n",
              " 0.1,\n",
              " 0.06,\n",
              " 0.16,\n",
              " 0.1,\n",
              " 0.12,\n",
              " 0.08,\n",
              " 0.1,\n",
              " 0.06,\n",
              " 0.04,\n",
              " 0.1,\n",
              " 0.08,\n",
              " 0.0,\n",
              " 0.04,\n",
              " 0.06,\n",
              " 0.06,\n",
              " 0.04,\n",
              " 0.02,\n",
              " 0.0,\n",
              " 0.02,\n",
              " 0.04,\n",
              " 0.02,\n",
              " 0.02,\n",
              " 0.06,\n",
              " 0.0,\n",
              " 0.14,\n",
              " 0.08,\n",
              " 0.04,\n",
              " 0.0,\n",
              " 0.02,\n",
              " 0.06,\n",
              " 0.04,\n",
              " 0.02,\n",
              " 0.1,\n",
              " 0.04,\n",
              " 0.1,\n",
              " 0.0,\n",
              " 0.02,\n",
              " 0.06,\n",
              " 0.04,\n",
              " 0.1,\n",
              " 0.12,\n",
              " 0.06,\n",
              " 0.04,\n",
              " 0.0,\n",
              " 0.0,\n",
              " 0.0,\n",
              " 0.0,\n",
              " 0.0,\n",
              " 0.0,\n",
              " 0.0,\n",
              " 0.0,\n",
              " 0.0,\n",
              " 0.0,\n",
              " 0.0,\n",
              " 0.0,\n",
              " 0.0,\n",
              " 0.02,\n",
              " 0.0,\n",
              " 0.0,\n",
              " 0.02,\n",
              " 0.0,\n",
              " 0.0,\n",
              " 0.0,\n",
              " 0.0,\n",
              " 0.04,\n",
              " 0.0,\n",
              " 0.0,\n",
              " 0.0,\n",
              " 0.0,\n",
              " 0.02,\n",
              " 0.0,\n",
              " 0.0,\n",
              " 0.0,\n",
              " 0.0,\n",
              " 0.0,\n",
              " 0.0,\n",
              " 0.0,\n",
              " 0.0,\n",
              " 0.0,\n",
              " 0.0,\n",
              " 0.0,\n",
              " 0.02,\n",
              " 0.0,\n",
              " 0.0,\n",
              " 0.0,\n",
              " 0.0,\n",
              " 0.0,\n",
              " 0.0,\n",
              " 0.0,\n",
              " 0.02,\n",
              " 0.04,\n",
              " 0.04,\n",
              " 0.0,\n",
              " 0.02,\n",
              " 0.02,\n",
              " 0.1,\n",
              " 0.1,\n",
              " 0.06,\n",
              " 0.02,\n",
              " 0.0,\n",
              " 0.08,\n",
              " 0.0,\n",
              " 0.02,\n",
              " 0.18,\n",
              " 0.14,\n",
              " 0.1,\n",
              " 0.1,\n",
              " 0.04,\n",
              " 0.04,\n",
              " 0.1,\n",
              " 0.02,\n",
              " 0.0,\n",
              " 0.04,\n",
              " 0.04,\n",
              " 0.04,\n",
              " 0.04,\n",
              " 0.06,\n",
              " 0.0,\n",
              " 0.02,\n",
              " 0.02,\n",
              " 0.04,\n",
              " 0.0,\n",
              " 0.06,\n",
              " 0.04,\n",
              " 0.0,\n",
              " 0.06,\n",
              " 0.12,\n",
              " 0.0,\n",
              " 0.0,\n",
              " 0.04,\n",
              " 0.0,\n",
              " 0.0,\n",
              " 0.0,\n",
              " 0.0,\n",
              " 0.0,\n",
              " 0.0,\n",
              " 0.0,\n",
              " 0.0,\n",
              " 0.0,\n",
              " 0.0,\n",
              " 0.0,\n",
              " 0.0,\n",
              " 0.04,\n",
              " 0.0,\n",
              " 0.0,\n",
              " 0.02,\n",
              " 0.0,\n",
              " 0.06,\n",
              " 0.08,\n",
              " 0.04,\n",
              " 0.02,\n",
              " 0.1,\n",
              " 0.06,\n",
              " 0.04,\n",
              " 0.0,\n",
              " 0.02,\n",
              " 0.1,\n",
              " 0.04,\n",
              " 0.06,\n",
              " 0.06,\n",
              " 0.02,\n",
              " 0.02,\n",
              " 0.02,\n",
              " 0.02,\n",
              " 0.04,\n",
              " 0.02,\n",
              " 0.02,\n",
              " 0.0,\n",
              " 0.04,\n",
              " 0.02,\n",
              " 0.0,\n",
              " 0.0,\n",
              " 0.06,\n",
              " 0.02,\n",
              " 0.06,\n",
              " 0.06,\n",
              " 0.08,\n",
              " 0.0,\n",
              " 0.0,\n",
              " 0.06,\n",
              " 0.02,\n",
              " 0.04,\n",
              " 0.06,\n",
              " 0.04,\n",
              " 0.04,\n",
              " 0.0,\n",
              " 0.06,\n",
              " 0.04,\n",
              " 0.02,\n",
              " 0.02,\n",
              " 0.0,\n",
              " 0.0,\n",
              " 0.0,\n",
              " 0.0,\n",
              " 0.0,\n",
              " 0.02,\n",
              " 0.08,\n",
              " 0.04,\n",
              " 0.08,\n",
              " 0.06,\n",
              " 0.02,\n",
              " 0.1,\n",
              " 0.08,\n",
              " 0.04,\n",
              " 0.06,\n",
              " 0.12,\n",
              " 0.04,\n",
              " 0.06,\n",
              " 0.12,\n",
              " 0.04,\n",
              " 0.04,\n",
              " 0.04,\n",
              " 0.1,\n",
              " 0.06,\n",
              " 0.04,\n",
              " 0.0,\n",
              " 0.0,\n",
              " 0.06,\n",
              " 0.08,\n",
              " 0.1,\n",
              " 0.18,\n",
              " 0.04,\n",
              " 0.12,\n",
              " 0.12,\n",
              " 0.06,\n",
              " 0.0,\n",
              " 0.1,\n",
              " 0.02,\n",
              " 0.02,\n",
              " 0.06,\n",
              " 0.08,\n",
              " 0.0,\n",
              " 0.02,\n",
              " 0.02,\n",
              " 0.04,\n",
              " 0.02,\n",
              " 0.04,\n",
              " 0.0,\n",
              " 0.02,\n",
              " 0.06,\n",
              " 0.02,\n",
              " 0.02,\n",
              " 0.04,\n",
              " 0.04,\n",
              " 0.04,\n",
              " 0.04,\n",
              " 0.12,\n",
              " 0.0,\n",
              " 0.06,\n",
              " 0.08,\n",
              " 0.02,\n",
              " 0.0,\n",
              " 0.0,\n",
              " 0.06,\n",
              " 0.04,\n",
              " 0.02,\n",
              " 0.04,\n",
              " 0.02,\n",
              " 0.02,\n",
              " 0.04,\n",
              " 0.02,\n",
              " 0.02,\n",
              " 0.02,\n",
              " 0.02,\n",
              " 0.02,\n",
              " 0.0,\n",
              " 0.0,\n",
              " 0.0,\n",
              " 0.0,\n",
              " 0.0,\n",
              " 0.0,\n",
              " 0.0,\n",
              " 0.0,\n",
              " 0.0,\n",
              " 0.0,\n",
              " 0.02,\n",
              " 0.02,\n",
              " 0.06,\n",
              " 0.08,\n",
              " 0.02,\n",
              " 0.04,\n",
              " 0.0,\n",
              " 0.18,\n",
              " 0.16,\n",
              " 0.08,\n",
              " 0.04,\n",
              " 0.08,\n",
              " 0.14,\n",
              " 0.1,\n",
              " 0.12,\n",
              " 0.14,\n",
              " 0.08,\n",
              " 0.04,\n",
              " 0.1,\n",
              " 0.04,\n",
              " 0.06,\n",
              " 0.08,\n",
              " 0.0,\n",
              " 0.08,\n",
              " 0.04,\n",
              " 0.06,\n",
              " 0.1,\n",
              " 0.06,\n",
              " 0.06,\n",
              " 0.04,\n",
              " 0.02,\n",
              " 0.06,\n",
              " 0.04,\n",
              " 0.08,\n",
              " 0.06,\n",
              " 0.02,\n",
              " 0.08,\n",
              " 0.02,\n",
              " 0.06,\n",
              " 0.0,\n",
              " 0.02,\n",
              " 0.04,\n",
              " 0.2,\n",
              " 0.0,\n",
              " 0.08,\n",
              " 0.1,\n",
              " 0.1,\n",
              " 0.12,\n",
              " 0.2,\n",
              " 0.06,\n",
              " 0.02,\n",
              " 0.06,\n",
              " 0.08,\n",
              " 0.06,\n",
              " 0.1,\n",
              " 0.06,\n",
              " 0.1,\n",
              " 0.04,\n",
              " 0.0,\n",
              " 0.0,\n",
              " 0.0,\n",
              " 0.02,\n",
              " 0.02,\n",
              " 0.0,\n",
              " 0.02,\n",
              " 0.06,\n",
              " 0.1,\n",
              " 0.02,\n",
              " 0.04,\n",
              " 0.0,\n",
              " 0.04,\n",
              " 0.02,\n",
              " 0.04,\n",
              " 0.06,\n",
              " 0.02,\n",
              " 0.0,\n",
              " 0.02,\n",
              " 0.0,\n",
              " 0.0,\n",
              " 0.12,\n",
              " 0.04,\n",
              " 0.04,\n",
              " 0.04,\n",
              " 0.02,\n",
              " 0.02,\n",
              " 0.04,\n",
              " 0.04,\n",
              " 0.02,\n",
              " 0.02,\n",
              " 0.04,\n",
              " 0.02,\n",
              " 0.0,\n",
              " 0.02,\n",
              " 0.0,\n",
              " 0.0,\n",
              " 0.02,\n",
              " 0.02,\n",
              " 0.0,\n",
              " 0.02,\n",
              " 0.02,\n",
              " 0.04,\n",
              " 0.02,\n",
              " 0.04,\n",
              " 0.14,\n",
              " 0.06,\n",
              " 0.06,\n",
              " 0.04,\n",
              " 0.1,\n",
              " 0.02,\n",
              " 0.04,\n",
              " 0.06,\n",
              " 0.06,\n",
              " 0.06,\n",
              " 0.1,\n",
              " 0.06,\n",
              " 0.0,\n",
              " 0.0,\n",
              " 0.02,\n",
              " 0.0,\n",
              " 0.0,\n",
              " 0.04,\n",
              " 0.0,\n",
              " 0.02,\n",
              " 0.0,\n",
              " 0.0,\n",
              " 0.0,\n",
              " 0.02,\n",
              " 0.02,\n",
              " 0.02,\n",
              " 0.0,\n",
              " 0.0,\n",
              " 0.0,\n",
              " 0.0,\n",
              " 0.0,\n",
              " 0.0,\n",
              " 0.0,\n",
              " 0.0,\n",
              " 0.0,\n",
              " 0.0,\n",
              " 0.0,\n",
              " 0.0,\n",
              " 0.02,\n",
              " 0.0,\n",
              " 0.0,\n",
              " 0.0,\n",
              " 0.0,\n",
              " 0.06,\n",
              " 0.02,\n",
              " 0.06,\n",
              " 0.0,\n",
              " 0.04,\n",
              " 0.0,\n",
              " 0.06,\n",
              " 0.0,\n",
              " 0.0,\n",
              " 0.0,\n",
              " 0.0,\n",
              " 0.02,\n",
              " 0.02,\n",
              " 0.04,\n",
              " 0.2,\n",
              " 0.1,\n",
              " 0.12,\n",
              " 0.02,\n",
              " 0.12,\n",
              " 0.04,\n",
              " 0.04,\n",
              " 0.08,\n",
              " 0.06,\n",
              " 0.04,\n",
              " 0.06,\n",
              " 0.06,\n",
              " 0.06,\n",
              " 0.04,\n",
              " 0.06,\n",
              " 0.14,\n",
              " 0.08,\n",
              " 0.08,\n",
              " 0.04,\n",
              " 0.04,\n",
              " 0.08,\n",
              " 0.04,\n",
              " 0.04,\n",
              " 0.04,\n",
              " 0.06,\n",
              " 0.1,\n",
              " 0.08,\n",
              " 0.1,\n",
              " 0.08,\n",
              " 0.08,\n",
              " 0.02,\n",
              " 0.0,\n",
              " 0.04,\n",
              " 0.06,\n",
              " 0.0,\n",
              " 0.06,\n",
              " 0.04,\n",
              " 0.04,\n",
              " 0.04,\n",
              " 0.12,\n",
              " 0.06,\n",
              " 0.04,\n",
              " 0.08,\n",
              " 0.04,\n",
              " 0.04,\n",
              " 0.04,\n",
              " 0.06,\n",
              " 0.04,\n",
              " 0.2,\n",
              " 0.16,\n",
              " 0.02,\n",
              " 0.08,\n",
              " 0.04,\n",
              " 0.02,\n",
              " 0.04,\n",
              " 0.0,\n",
              " 0.0,\n",
              " 0.0,\n",
              " 0.06,\n",
              " 0.0,\n",
              " 0.04,\n",
              " 0.02,\n",
              " 0.04,\n",
              " 0.04,\n",
              " 0.08,\n",
              " 0.04,\n",
              " 0.0,\n",
              " 0.08,\n",
              " 0.04,\n",
              " 0.1,\n",
              " 0.04,\n",
              " 0.04,\n",
              " 0.02,\n",
              " 0.02,\n",
              " 0.0,\n",
              " 0.04,\n",
              " 0.0,\n",
              " 0.0,\n",
              " 0.0,\n",
              " 0.0,\n",
              " 0.04,\n",
              " 0.02,\n",
              " 0.06,\n",
              " 0.0,\n",
              " 0.02,\n",
              " 0.0,\n",
              " 0.0,\n",
              " 0.0,\n",
              " 0.0,\n",
              " 0.0,\n",
              " 0.02,\n",
              " 0.0,\n",
              " 0.0,\n",
              " 0.0,\n",
              " 0.0,\n",
              " 0.0,\n",
              " 0.0,\n",
              " 0.0,\n",
              " 0.0,\n",
              " 0.0,\n",
              " 0.0,\n",
              " 0.0,\n",
              " 0.0,\n",
              " 0.0,\n",
              " 0.0,\n",
              " 0.0,\n",
              " 0.0,\n",
              " 0.0,\n",
              " 0.0,\n",
              " 0.0,\n",
              " 0.02,\n",
              " 0.0,\n",
              " 0.02,\n",
              " 0.04,\n",
              " 0.06,\n",
              " 0.0,\n",
              " 0.0,\n",
              " 0.0,\n",
              " 0.0,\n",
              " 0.0,\n",
              " 0.0,\n",
              " 0.02,\n",
              " 0.0,\n",
              " 0.0,\n",
              " 0.0,\n",
              " 0.0,\n",
              " 0.04,\n",
              " 0.0,\n",
              " 0.0,\n",
              " 0.0,\n",
              " 0.0,\n",
              " 0.02,\n",
              " 0.0,\n",
              " 0.0,\n",
              " 0.0,\n",
              " 0.0,\n",
              " 0.0,\n",
              " 0.0,\n",
              " 0.0,\n",
              " 0.0,\n",
              " 0.0,\n",
              " 0.0,\n",
              " 0.04,\n",
              " 0.02,\n",
              " 0.02,\n",
              " 0.0,\n",
              " 0.02,\n",
              " 0.04,\n",
              " 0.0,\n",
              " 0.02,\n",
              " 0.0,\n",
              " 0.02,\n",
              " 0.02,\n",
              " 0.08,\n",
              " 0.0,\n",
              " 0.04,\n",
              " 0.0,\n",
              " 0.02,\n",
              " 0.06,\n",
              " 0.0,\n",
              " 0.0,\n",
              " 0.0,\n",
              " 0.0,\n",
              " 0.02,\n",
              " 0.16,\n",
              " 0.08,\n",
              " 0.08,\n",
              " 0.06,\n",
              " 0.06,\n",
              " 0.02,\n",
              " 0.08,\n",
              " 0.1,\n",
              " 0.08,\n",
              " 0.04,\n",
              " 0.08,\n",
              " 0.02,\n",
              " 0.0,\n",
              " 0.02,\n",
              " 0.02,\n",
              " 0.02,\n",
              " 0.04,\n",
              " 0.08,\n",
              " 0.04,\n",
              " 0.02,\n",
              " 0.04,\n",
              " 0.0,\n",
              " 0.06,\n",
              " 0.02,\n",
              " 0.06,\n",
              " 0.06,\n",
              " 0.06,\n",
              " 0.0,\n",
              " 0.02,\n",
              " 0.08,\n",
              " 0.02,\n",
              " 0.1,\n",
              " 0.06,\n",
              " 0.0,\n",
              " 0.0,\n",
              " 0.02,\n",
              " 0.04,\n",
              " 0.0,\n",
              " 0.0,\n",
              " 0.02,\n",
              " 0.04,\n",
              " 0.0,\n",
              " 0.02,\n",
              " 0.0,\n",
              " 0.0,\n",
              " 0.0,\n",
              " 0.02,\n",
              " 0.0,\n",
              " 0.0,\n",
              " 0.0,\n",
              " 0.04,\n",
              " 0.0,\n",
              " 0.0,\n",
              " 0.0,\n",
              " 0.0,\n",
              " 0.0,\n",
              " 0.04,\n",
              " 0.12,\n",
              " 0.14,\n",
              " 0.06,\n",
              " 0.04,\n",
              " 0.0,\n",
              " 0.0,\n",
              " 0.04,\n",
              " 0.02,\n",
              " 0.10256410256410256]"
            ]
          },
          "metadata": {},
          "execution_count": 50
        }
      ]
    },
    {
      "cell_type": "code",
      "source": [
        "plt.plot(freqs_list)"
      ],
      "metadata": {
        "colab": {
          "base_uri": "https://localhost:8080/",
          "height": 282
        },
        "id": "JjbkQaU0_HL4",
        "outputId": "7c68b75c-849a-4f39-b984-7db171a4beb8"
      },
      "execution_count": null,
      "outputs": [
        {
          "output_type": "execute_result",
          "data": {
            "text/plain": [
              "[<matplotlib.lines.Line2D at 0x7f5886131cd0>]"
            ]
          },
          "metadata": {},
          "execution_count": 51
        },
        {
          "output_type": "display_data",
          "data": {
            "text/plain": [
              "<Figure size 432x288 with 1 Axes>"
            ],
            "image/png": "[encoded data removed]"
          },
          "metadata": {
            "needs_background": "light"
          }
        }
      ]
    }
  ]
}